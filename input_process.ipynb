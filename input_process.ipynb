{
 "cells": [
  {
   "cell_type": "code",
   "execution_count": 2,
   "metadata": {},
   "outputs": [],
   "source": [
    "\n",
    "import os\n",
    "import re\n",
    "import numpy as np\n",
    "import pandas as pd\n",
    "import ujson as json\n",
    "\n",
    "patient_ids = []"
   ]
  },
  {
   "cell_type": "code",
   "execution_count": null,
   "metadata": {},
   "outputs": [],
   "source": []
  },
  {
   "cell_type": "code",
   "execution_count": 3,
   "metadata": {},
   "outputs": [],
   "source": [
    "for filename in os.listdir('./raw'):\n",
    "    # the patient data in PhysioNet contains 6-digits\n",
    "    match = re.search('\\d{6}', filename)\n",
    "    if match:\n",
    "        id_ = match.group()\n",
    "        patient_ids.append(id_)\n",
    "\n",
    "out = pd.read_csv('./raw/Outcomes-a.txt').set_index('RecordID')['In-hospital_death']\n"
   ]
  },
  {
   "cell_type": "code",
   "execution_count": 4,
   "metadata": {},
   "outputs": [],
   "source": [
    "\n",
    "# we select 35 attributes which contains enough non-values\n",
    "attributes = ['DiasABP', 'HR', 'Na', 'Lactate', 'NIDiasABP', 'PaO2', 'WBC', 'pH', 'Albumin', 'ALT', 'Glucose', 'SaO2',\n",
    "              'Temp', 'AST', 'Bilirubin', 'HCO3', 'BUN', 'RespRate', 'Mg', 'HCT', 'SysABP', 'FiO2', 'K', 'GCS',\n",
    "              'Cholesterol', 'NISysABP', 'TroponinT', 'MAP', 'TroponinI', 'PaCO2', 'Platelets', 'Urine', 'NIMAP',\n",
    "              'Creatinine', 'ALP']"
   ]
  },
  {
   "cell_type": "code",
   "execution_count": 5,
   "metadata": {},
   "outputs": [],
   "source": [
    "# mean and std of 35 attributes\n",
    "mean = np.array([59.540976152469405, 86.72320413227443, 139.06972964987443, 2.8797765291788986, 58.13833409690321,\n",
    "                 147.4835678885565, 12.670222585415166, 7.490957887101613, 2.922874149659863, 394.8899400819931,\n",
    "                 141.4867570064675, 96.66380228136883, 37.07362841054398, 505.5576196473552, 2.906465787821709,\n",
    "                 23.118951553526724, 27.413004968675743, 19.64795551193981, 2.0277491155660416, 30.692432164676188,\n",
    "                 119.60137167841977, 0.5404785381886381, 4.135790642787733, 11.407767149315339, 156.51746031746032,\n",
    "                 119.15012244292181, 1.2004983498349853, 80.20321011673151, 7.127188940092161, 40.39875518672199,\n",
    "                 191.05877024038804, 116.1171573535279, 77.08923183026529, 1.5052390166989214, 116.77122488658458])\n",
    "\n",
    "std = np.array(\n",
    "    [13.01436781437145, 17.789923096504985, 5.185595006246348, 2.5287518090506755, 15.06074282896952, 85.96290370390257,\n",
    "     7.649058756791069, 8.384743923130074, 0.6515057685658769, 1201.033856726966, 67.62249645388543, 3.294112002091972,\n",
    "     1.5604879744921516, 1515.362517984297, 5.902070316876287, 4.707600932877377, 23.403743427107095, 5.50914416318306,\n",
    "     0.4220051299992514, 5.002058959758486, 23.730556355204214, 0.18634432509312762, 0.706337033602292,\n",
    "     3.967579823394297, 45.99491531484596, 21.97610723063014, 2.716532297586456, 16.232515568438338, 9.754483687298688,\n",
    "     9.062327978713556, 106.50939503021543, 170.65318497610315, 14.856134327604906, 1.6369529387005546,\n",
    "     133.96778334724377])"
   ]
  },
  {
   "cell_type": "code",
   "execution_count": 6,
   "metadata": {},
   "outputs": [],
   "source": [
    "fs = open('./json/json', 'w')\n",
    "\n",
    "def to_time_bin(x):\n",
    "    h, m = map(int, x.split(':'))\n",
    "    return h\n",
    "\n",
    "\n",
    "def parse_data(x):\n",
    "    x = x.set_index('Parameter').to_dict()['Value']\n",
    "\n",
    "    values = []\n",
    "\n",
    "    for attr in attributes:\n",
    "        if attr in x:\n",
    "            values.append(x[attr])\n",
    "        else:\n",
    "            values.append(np.nan)\n",
    "    return values"
   ]
  },
  {
   "cell_type": "code",
   "execution_count": 7,
   "metadata": {},
   "outputs": [],
   "source": [
    "def parse_delta(masks, dir_):\n",
    "    if dir_ == 'backward':\n",
    "        masks = masks[::-1]\n",
    "\n",
    "    deltas = []\n",
    "\n",
    "    for h in range(48):\n",
    "        if h == 0:\n",
    "            deltas.append(np.ones(35))\n",
    "        else:\n",
    "            deltas.append(np.ones(35) + (1 - masks[h]) * deltas[-1])\n",
    "\n",
    "    return np.array(deltas)"
   ]
  },
  {
   "cell_type": "code",
   "execution_count": 8,
   "metadata": {},
   "outputs": [],
   "source": [
    "def parse_rec(values, masks, evals, eval_masks, dir_):\n",
    "    deltas = parse_delta(masks, dir_)\n",
    "\n",
    "    # only used in GRU-D\n",
    "    forwards = pd.DataFrame(values).fillna(method='ffill').fillna(0.0).as_matrix()\n",
    "\n",
    "    rec = {}\n",
    "\n",
    "    rec['values'] = np.nan_to_num(values).tolist()\n",
    "    rec['masks'] = masks.astype('int32').tolist()\n",
    "    # imputation ground-truth\n",
    "    rec['evals'] = np.nan_to_num(evals).tolist()\n",
    "    rec['eval_masks'] = eval_masks.astype('int32').tolist()\n",
    "    rec['forwards'] = forwards.tolist()\n",
    "    rec['deltas'] = deltas.tolist()\n",
    "\n",
    "    return rec"
   ]
  },
  {
   "cell_type": "code",
   "execution_count": 9,
   "metadata": {},
   "outputs": [],
   "source": [
    "def parse_id(id_):\n",
    "    data = pd.read_csv('./raw/{}.txt'.format(id_))\n",
    "    # accumulate the records within one hour\n",
    "    data['Time'] = data['Time'].apply(lambda x: to_time_bin(x))\n",
    "\n",
    "    evals = []\n",
    "\n",
    "    # merge all the metrics within one hour\n",
    "    for h in range(48):\n",
    "        evals.append(parse_data(data[data['Time'] == h]))\n",
    "\n",
    "    evals = (np.array(evals) - mean) / std\n",
    "\n",
    "    shp = evals.shape\n",
    "\n",
    "    evals = evals.reshape(-1)\n",
    "\n",
    "    # randomly eliminate 10% values as the imputation ground-truth\n",
    "    indices = np.where(~np.isnan(evals))[0].tolist()\n",
    "    indices = np.random.choice(indices, len(indices) // 10)\n",
    "\n",
    "    values = evals.copy()\n",
    "    values[indices] = np.nan\n",
    "\n",
    "    masks = ~np.isnan(values)\n",
    "    eval_masks = (~np.isnan(values)) ^ (~np.isnan(evals))\n",
    "\n",
    "    evals = evals.reshape(shp)\n",
    "    values = values.reshape(shp)\n",
    "\n",
    "    masks = masks.reshape(shp)\n",
    "    eval_masks = eval_masks.reshape(shp)\n",
    "\n",
    "    label = out.loc[int(id_)]\n",
    "\n",
    "    rec = {'label': label}\n",
    "\n",
    "    # prepare the model for both directions\n",
    "    rec['forward'] = parse_rec(values, masks, evals, eval_masks, dir_='forward')\n",
    "    rec['backward'] = parse_rec(values[::-1], masks[::-1], evals[::-1], eval_masks[::-1], dir_='backward')\n",
    "    \n",
    " \n",
    "    rec = json.dumps(rec)\n",
    "    \n",
    "    fs.write(rec + '\\n')"
   ]
  },
  {
   "cell_type": "code",
   "execution_count": 14,
   "metadata": {},
   "outputs": [
    {
     "name": "stderr",
     "output_type": "stream",
     "text": [
      "D:\\Anaconda3\\lib\\site-packages\\ipykernel_launcher.py:5: FutureWarning: Method .as_matrix will be removed in a future version. Use .values instead.\n",
      "  \"\"\"\n"
     ]
    }
   ],
   "source": [
    "test_id=(132539)\n",
    "\n",
    "data = pd.read_csv('./raw/{}.txt'.format(test_id))\n",
    "data['Time'] = data['Time'].apply(lambda x: to_time_bin(x))\n",
    "\n",
    "data['Time'] \n",
    "\n",
    "evals = []\n",
    "\n",
    "# merge all the metrics within one hour\n",
    "for h in range(48):\n",
    "    evals.append(parse_data(data[data['Time'] == h]))\n",
    "\n",
    "evals = (np.array(evals) - mean) / std\n",
    "\n",
    "shp = evals.shape\n",
    "\n",
    "evals = evals.reshape(-1)\n",
    "\n",
    "# randomly eliminate 10% values as the imputation ground-truth\n",
    "indices = np.where(~np.isnan(evals))[0].tolist()\n",
    "indices = np.random.choice(indices, len(indices) // 10)\n",
    "\n",
    "values = evals.copy()\n",
    "values[indices] = np.nan\n",
    "\n",
    "masks = ~np.isnan(values)\n",
    "eval_masks = (~np.isnan(values)) ^ (~np.isnan(evals))\n",
    "\n",
    "evals = evals.reshape(shp)\n",
    "values = values.reshape(shp)\n",
    "\n",
    "masks = masks.reshape(shp)\n",
    "eval_masks = eval_masks.reshape(shp)\n",
    "\n",
    "label = out.loc[int(test_id)]\n",
    "\n",
    "rec = {}\n",
    "rec['label']=int(label)\n",
    "rec['forward'] = parse_rec(values, masks, evals, eval_masks, dir_='forward')\n",
    "rec['backward'] = parse_rec(values[::-1], masks[::-1], evals[::-1], eval_masks[::-1], dir_='backward')\n",
    "rec = json.dumps(rec)"
   ]
  },
  {
   "cell_type": "code",
   "execution_count": null,
   "metadata": {},
   "outputs": [],
   "source": [
    "for id_ in patient_ids:\n",
    "    print('Processing patient {}'.format(id_))\n",
    "    try:\n",
    "        parse_id(id_)\n",
    "    except Exception as e:\n",
    "        print(e)\n",
    "        continue\n",
    "\n",
    "fs.close()"
   ]
  },
  {
   "cell_type": "code",
   "execution_count": null,
   "metadata": {},
   "outputs": [],
   "source": []
  }
 ],
 "metadata": {
  "kernelspec": {
   "display_name": "Python 3",
   "language": "python",
   "name": "python3"
  },
  "language_info": {
   "codemirror_mode": {
    "name": "ipython",
    "version": 3
   },
   "file_extension": ".py",
   "mimetype": "text/x-python",
   "name": "python",
   "nbconvert_exporter": "python",
   "pygments_lexer": "ipython3",
   "version": "3.6.5"
  }
 },
 "nbformat": 4,
 "nbformat_minor": 2
}
